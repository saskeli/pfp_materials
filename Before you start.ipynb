{
 "cells": [
  {
   "cell_type": "markdown",
   "id": "e48b5c8d",
   "metadata": {},
   "source": [
    "# Before You Start\n",
    "\n",
    "Especially if you are new to C/C++ it is highly recommended that you go through the guide Tie Koodariksi, which is available in Finnish:\n",
    "\n",
    "https://tie.koodariksi.fi/cpp/\n",
    "\n",
    "and now in English:\n",
    "\n",
    "https://tie.koodariksi.fi/cppe/ (bug finding in this translation is welcome ;-) contact Simon).\n",
    "\n",
    "You should read through the guide before/while working on task in sets 0 and 1, compile some small programs, and try out the little code snippets in the guide. Other online introductory guides may also be helpful (see Moodle - read widely!). Spend an intense day or so warming up this way before throwing yourself at the programming tasks of this set 1.\n",
    "\n",
    "It is also advised to at least quickly investigate the valgrind (especially `--tool=memcheck`) utility, and gdb, gprof, and make (to at least know what they are). There is an abundance of online documentation for these very useful tools.\n",
    "\n",
    "If you want to work on Windows, we recommend using the “Windows subsystem for linux”, to run linux on a virtual machine inside windows. Installation instructions for WSL can be found at https://docs.microsoft.com/en-us/windows/wsl/install. \n",
    "\n",
    "On Ubuntu (either natively or in the Windows subsystem), you should be able to install all the required tooling for this course with \n",
    "\n",
    "```bash\n",
    "sudo apt install build-essential\n",
    "```\n",
    "<br/>\n",
    "This should install a reasonably new version of the Gnu C++ compiler and make along with some other stuff. gdb and gprof may be installed with build-essential as well but should be available on “apt”. Valgrind should be available on “apt” as well but will probably not be installed unless you knowingly installed it previously.\n",
    "\n",
    "You can use any true text editor and many different integrated development environments for C++ coding. If you don’t already have a favorite, I’d suggest trying Visual Studio Code (https://code.visualstudio.com/).\n",
    "\n",
    "Create a user account on CSES (https://cses.fi/), and make sure you add your UH student number to your profile on CSES so the submissions can be correctly attributed. After creating the account, you should find the course in the course listing at CSES (after the first lecture at the latest)."
   ]
  }
 ],
 "metadata": {
  "kernelspec": {
   "display_name": "Python 3 (ipykernel)",
   "language": "python",
   "name": "python3"
  },
  "language_info": {
   "codemirror_mode": {
    "name": "ipython",
    "version": 3
   },
   "file_extension": ".py",
   "mimetype": "text/x-python",
   "name": "python",
   "nbconvert_exporter": "python",
   "pygments_lexer": "ipython3",
   "version": "3.10.9"
  }
 },
 "nbformat": 4,
 "nbformat_minor": 5
}

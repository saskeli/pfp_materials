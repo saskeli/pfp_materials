{
 "cells": [
  {
   "cell_type": "markdown",
   "id": "3878d3a5",
   "metadata": {},
   "source": [
    "# Programming tasks 4\n",
    "\n",
    "## Data\n",
    "\n",
    "We use the same data sets as last week.\n",
    "\n",
    "We will focus on the `Fx` files, and stop ignoring the $n$ index queries in the files."
   ]
  },
  {
   "cell_type": "markdown",
   "id": "53849c60",
   "metadata": {},
   "source": [
    "## Assignment Overview\n",
    "\n",
    "You will now implement the random access to compressed data that was hinted at in the previous set.\n",
    "\n",
    "The program specification is the same as last week.\n",
    "\n",
    "For input: $[2,7,500,1,0]$<br/>\n",
    "The program should output: $[3,500,7]$<br/>\n",
    "I.e. again 3 blocks used and `VB.get(1)` $=500$, `VB.get(0)` $=7$. "
   ]
  },
  {
   "cell_type": "markdown",
   "id": "0806c7ef",
   "metadata": {},
   "source": [
    "## Task 1: Naive random access to VB codes (2 out of 10 marks)\n",
    "\n",
    "Stop ignoring the index queries.\n",
    "\n",
    "Implement `VB.scan()` for your generalised VB data structure. \n",
    "\n",
    "The intention is to just scan from the start of the data structure and output the target integer when you get to it.\n",
    "\n",
    "Make note of the query performance for this random access implementation.\n",
    "\n",
    "This is intended as a baseline for benchmarking tasks 2 and 3.\n",
    "\n",
    "Once you are satisfied with your implementation, submit it to CSES.\n",
    "\n",
    "NB: if you have trouble with the packed arrays, the A task should pass (possibly faster) if you ignore k and use entire bytes."
   ]
  },
  {
   "cell_type": "markdown",
   "id": "0c6ab843",
   "metadata": {},
   "source": [
    "## Task 2: Sum-Query-Based Random Access to VB codes (4 out of 10 marks)\n",
    "\n",
    "In this task you will make use of your `BitArray` class from Set 1 as well as the `sum` function to support access to integer sequences that have been compressed with VByte codes. This requires us to first slightly rearrange the bits of the VByte codes.\n",
    "\n",
    "For a given integer sequence $S[0..n-1]$, of $n$ integers, let $m$ be the length (in parts) of the longest VByte code when $S$ is VByte encoded (ignoring what $k$ is for now). Also, let $N_p$ be the number of VByte codes consisting of $p$ or more parts.\n",
    "\n",
    "The data structure you will implement will consist of $m$ layers numbered $1,\\ldots, m$.\n",
    "Layer $L_i$ will consist of a `BitArray`, $B_i$, and a Packed Integer Array, $A_i$, both of length $N_p$.\n",
    "\n",
    "$B_0$ contains the stop bit of the 1<sup>st</sup> part of each code and $A_0$ contains the data bits of the 1<sup>st</sup> part of each code. Note that every code has a 1<sup>st</sup> part, so $\\lvert B_0\\rvert = N_0 = n$.\n",
    "\n",
    "In general $B_i[j]$ contains the stop bit of the $i$<sup>th</sup> part for the $j$<sup>th</sup> code having $i$ or more parts, and $A_i[j]$ contains the corresponding data bits.\n",
    "\n"
   ]
  },
  {
   "cell_type": "markdown",
   "id": "382e41e1",
   "metadata": {},
   "source": [
    "To (hopefully) make things clearer, here is a small example for a sequence of integers: \n",
    "\n",
    "$S = 4, 500, 200, 18$ \n",
    "\n",
    "and $k = 7$.\n",
    "\n",
    "After VB encoding the integers in S we have the following bits (stop bits in bold):\n",
    "\n",
    "<pre>\n",
    "<b>1</b>0000100 <b>0</b>1110100 <b>1</b>0000011 <b>0</b>1001000 <b>1</b>0000001 <b>1</b>0010010\n",
    "</pre>\n",
    "\n",
    "Rearranging these bits into layers as described above would give us:\n",
    "\n",
    "$B_0$:\t`1001`<br/>\n",
    "$A_0$:\t`0000100 1110100 1001000 0010010`<br/>\n",
    "$B_1$:\t`11`<br/>\n",
    "$A_1$: \t`0000011 0000001`<br/>\n",
    "\n",
    "Note that to this point the number of bits is the same in the two arrangements."
   ]
  },
  {
   "cell_type": "markdown",
   "id": "f6e3672c",
   "metadata": {},
   "source": [
    "In order to support fast access to the $i$<sup>th</sup> integer, we increase space slightly by building a sum support data structure on each of the $B$ bit arrays. \n",
    "\n",
    "Then, to find the data bits that enable us to reconstruct the $i$<sup>th</sup> integer, we first look at the $i$<sup>th</sup> bit of $B_0$. If this (stop) bit is 1, then we extract the data bits from $A_0$ and are finished. Otherwise (stop bit = 0) the next part of the code exists at Layer 1. We can locate the relevant bits in $A_1$ by calculating the number of 0s up to and including position $i$ in $B_0$ --- observe that the number of 0s up to position $i$ is $y = i - \\operatorname{sum}(i)$. This means $A_1[y]$ is the next part of the code (spend a minute verifying this to yourself with an example). If $B_1[y] = 1$ we are finished. Otherwise ($B_1[y] = 0$) there are yet more parts of the code, and we can locate the next of those parts at the next layer (Layer 2) using a similar (i.e. sum-based) approach."
   ]
  },
  {
   "cell_type": "markdown",
   "id": "02955636",
   "metadata": {},
   "source": [
    "Your task is to implement `vb.get()` (or `vb[]` if you want to get fancy) using the data structure sketched above and compare the performance of the sum-based access method to the scan function you implemented in Task 1.\n",
    "\n",
    "Benchmark this implementation. Compare the query times to the ones for Task 1, and compare the space usage to the other implementations. What is the space overhead of this implementation in practice?\n",
    "\n",
    "NB: if you have trouble with the packed arrays, the A task should also pass if you ignore k and use entire bytes."
   ]
  },
  {
   "cell_type": "markdown",
   "id": "7d71ab91",
   "metadata": {},
   "source": [
    "## Task 3: Location-Query-Based Random Access to VB codes (4 out of 10 marks)\n",
    "\n",
    "The data structure for task 2 was fairly complicated and had loads of moving parts.\n",
    "\n",
    "Wouldn’t it be more simple to just extract the stop bits into a single `BitArray`, and simply concatenate the payloads? Then simple location queries on the bitArray could be used to retrieve the positions of the blocks to read.\n",
    "\n",
    "The potential problem with this approach is with the performance of `location` queries compared to `sum` queries.\n",
    "\n",
    "For the same $S$ we get the same encoding (stop bits in bold):\n",
    "\n",
    "<pre>\n",
    "<b>1</b>0000100 <b>0</b>1110100 <b>1</b>0000011 <b>0</b>1001000 <b>1</b>0000001 <b>1</b>0010010\n",
    "</pre>\n",
    "\n",
    "Instead of the multi-tiered approach, we simply do:\n",
    "\n",
    "$B$\t`101011`<br/>\n",
    "$A$\t`0000100 1110100 0000011 1001000 0000001 0010010`\n",
    "\n",
    "Now to access index $1$ for example, the blocks containing the bits for index one are $[\\operatorname{location}(i) + 1 \\ldots \\operatorname{location}(i + 1)] = [1 \\ldots 2]$. Now the blocks can be read and reordered to retrieve the value.\n",
    "\n",
    "Benchmark your implementation for random access using location queries in comparison to your solution to task 2. What is the difference in performance and space overhead? General thoughts on this approach in comparison to task 2?\n"
   ]
  }
 ],
 "metadata": {
  "kernelspec": {
   "display_name": "Python 3 (ipykernel)",
   "language": "python",
   "name": "python3"
  },
  "language_info": {
   "codemirror_mode": {
    "name": "ipython",
    "version": 3
   },
   "file_extension": ".py",
   "mimetype": "text/x-python",
   "name": "python",
   "nbconvert_exporter": "python",
   "pygments_lexer": "ipython3",
   "version": "3.10.9"
  }
 },
 "nbformat": 4,
 "nbformat_minor": 5
}

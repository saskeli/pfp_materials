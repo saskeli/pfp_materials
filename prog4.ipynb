{
 "cells": [
  {
   "cell_type": "markdown",
   "id": "3878d3a5",
   "metadata": {},
   "source": [
    "# Programming tasks 4\n",
    "\n",
    "## Data\n",
    "\n",
    "Use the same `nums.py` script as last week.\n",
    "\n",
    "We will now and stop ignoring index queries."
   ]
  },
  {
   "cell_type": "markdown",
   "id": "53849c60",
   "metadata": {},
   "source": [
    "## Assignment Overview\n",
    "\n",
    "You will now implement the random access to compressed data that was hinted at in the previous set.\n",
    "\n",
    "The program specification is the same as last week.\n",
    "\n",
    "For (binary) input: $[2,7,500,2,1,0]$<br/>\n",
    "The program should output: $[3,500,7]$<br/>\n",
    "I.e. again 3 blocks used and `VB.get(1)` $=500$, `VB.get(0)` $=7$.\n",
    "\n",
    "**Note:** The tests for this set will ignore the value of the block counter. So feel free to ignore any given $k$ value, and engineer your data structure as you feel is best. You need to remain approximately as space efficient as the basic VByte code tho.\n",
    "\n",
    "In addition to the command line parameters in the last set, CSES will use `-n` and `-l` flags to indicate that the tests are for the **n**aive or **l**ocation based implementations respectively. This allows you to not change the code to submit to different tests, but these can safely be ignored if you just set the correct implementation as default when submitting."
   ]
  },
  {
   "cell_type": "markdown",
   "id": "0806c7ef",
   "metadata": {},
   "source": [
    "## Task A40: Naive random access to VB codes (3 out of 10 marks)\n",
    "\n",
    "Stop ignoring the index queries.\n",
    "\n",
    "Implement `VB.scan()` for your VByte data structure. \n",
    "\n",
    "The intention is to just scan from the start of the data structure and output the target integer when you get to it.\n",
    "\n",
    "Make note of the query performance for this random access implementation.\n",
    "\n",
    "This is intended as a baseline for your benchmarking of tasks A41/B41 and B42.\n",
    "\n",
    "CSES will call the program with the `-n` flag (for naive), to indicate that this iterative version should be used in case there are others available.\n",
    "\n",
    "Once you are satisfied with your implementation, submit it to CSES."
   ]
  },
  {
   "cell_type": "markdown",
   "id": "0c6ab843",
   "metadata": {},
   "source": [
    "## Task A41/B41: Sum-Query-Based Random Access to VB codes\n",
    "\n",
    "### A41 yields 7 / 10 marks<br />B41 yields 5 / 10 marks\n",
    "\n",
    "In this task you will make use of your `BitArray` class from Set 1 as well as the `sum` function to support access to integer sequences that have been compressed with VByte codes. This requires us to first slightly rearrange the bits of the VByte codes.\n",
    "\n",
    "For a given integer sequence $S[0..n-1]$, of $n$ integers, let $m$ be the length (in parts) of the longest VByte code when $S$ is VByte encoded. Also, let $N_p$ be the number of VByte codes consisting of $p$ or more parts.\n",
    "\n",
    "The data structure you will implement will consist of $m$ layers numbered $1,\\ldots, m$.\n",
    "Layer $L_i$ will consist of a `BitArray`, $B_i$, and an array of $k$-bit blocks, $A_i$, both of length $N_p$.\n",
    "\n",
    "$B_0$ contains the stop bit of the 1<sup>st</sup> part of each code and $A_0$ contains the data bits of the 1<sup>st</sup> part of each code. Note that every code has a 1<sup>st</sup> part, so $\\lvert B_0\\rvert = N_0 = n$.\n",
    "\n",
    "In general $B_i[j]$ contains the stop bit of the $i$<sup>th</sup> part for the $j$<sup>th</sup> code having $i$ or more parts, and $A_i[j]$ contains the corresponding data bits."
   ]
  },
  {
   "cell_type": "markdown",
   "id": "382e41e1",
   "metadata": {},
   "source": [
    "To (hopefully) make things clearer, here is a small example for a sequence of integers: \n",
    "\n",
    "$S = 4, 500, 200, 18$ \n",
    "\n",
    "and $k = 7$.\n",
    "\n",
    "After VB encoding the integers in S we have the following bits (stop bits in **bold**):\n",
    "\n",
    "<pre>\n",
    "<b>1</b>0000100 <b>0</b>1110100 <b>1</b>0000011 <b>0</b>1001000 <b>1</b>0000001 <b>1</b>0010010\n",
    "</pre>\n",
    "\n",
    "Rearranging these bits into layers as described above would give us:\n",
    "\n",
    "$B_0$:\t`1001`<br/>\n",
    "$A_0$:\t`0000100 1110100 1001000 0010010`<br/>\n",
    "$B_1$:\t`11`<br/>\n",
    "$A_1$: \t`0000011 0000001`<br/>\n",
    "\n",
    "Note that to this point the number of bits is the same in the two arrangements."
   ]
  },
  {
   "cell_type": "markdown",
   "id": "f6e3672c",
   "metadata": {},
   "source": [
    "In order to support fast access to the $i$<sup>th</sup> integer, we increase space slightly by building a sum support data structure on each of the $B$ bit arrays. \n",
    "\n",
    "Then, to find the data bits that enable us to reconstruct the $i$<sup>th</sup> integer, we first look at the $i$<sup>th</sup> bit of $B_0$. If this (stop) bit is 1, then we extract the data bits from $A_0$ and are finished. Otherwise (stop bit = 0) the next part of the code exists at Layer 1. We can locate the relevant bits in $A_1$ by calculating the number of 0s up to and including position $i$ in $B_0$ --- observe that the number of 0s up to position $i$ is $y = i - \\operatorname{sum}(i)$. This means $A_1[y]$ is the next part of the code (spend a minute verifying this to yourself with an example). If $B_1[y] = 1$ we are finished. Otherwise ($B_1[y] = 0$) there are yet more parts of the code, and we can locate the next of those parts at the next layer (Layer 2) using a similar (i.e. sum-based) approach."
   ]
  },
  {
   "cell_type": "markdown",
   "id": "02955636",
   "metadata": {},
   "source": [
    "Your task is to implement `vb.get()` (or `vb[]` if you want to get fancy) using the data structure sketched above and compare the performance of the sum-based access method to the scan function you implemented in Task 1.\n",
    "\n",
    "Benchmark this implementation. Compare the query times to the ones for Task A40, and compare the space usage to the other implementations. What is the space overhead of this implementation in practice?"
   ]
  },
  {
   "cell_type": "markdown",
   "id": "7d71ab91",
   "metadata": {},
   "source": [
    "## Task B42: Location-Query-Based Random Access to VB codes (5 out of 10 marks)\n",
    "\n",
    "The data structure for task 2 was fairly complicated and had loads of moving parts.\n",
    "\n",
    "Wouldn’t it be more simple to just extract the stop bits into a single `BitArray`, and simply concatenate the payloads? Then simple location queries on the bitArray could be used to retrieve the positions of the blocks to read.\n",
    "\n",
    "The potential problem with this approach is with the performance of `location` queries compared to `sum` queries.\n",
    "\n",
    "For the same $S$ we get the same encoding (stop bits in bold):\n",
    "\n",
    "<pre>\n",
    "<b>1</b>0000100 <b>0</b>1110100 <b>1</b>0000011 <b>0</b>1001000 <b>1</b>0000001 <b>1</b>0010010\n",
    "</pre>\n",
    "\n",
    "Instead of the multi-tiered approach, we simply do:\n",
    "\n",
    "$B$\t`101011`<br/>\n",
    "$A$\t`0000100 1110100 0000011 1001000 0000001 0010010`\n",
    "\n",
    "Now to access index $1$ for example, the blocks containing the bits for index one are $[\\operatorname{location}(i) + 1 \\ldots \\operatorname{location}(i + 1)] = [1 \\ldots 2]$. Now the blocks can be read and reordered to retrieve the value.\n",
    "\n",
    "Benchmark your implementation for random access using location queries in comparison to your solution to task A41/B41. What is the difference in performance and space overhead? General thoughts on this approach in comparison to task A41/B41?\n",
    "\n",
    "The automated tests on CSES will call the binary with the `-l` flag (for location) to enable selecting the correct  implementation."
   ]
  }
 ],
 "metadata": {
  "kernelspec": {
   "display_name": "Python 3 (ipykernel)",
   "language": "python",
   "name": "python3"
  },
  "language_info": {
   "codemirror_mode": {
    "name": "ipython",
    "version": 3
   },
   "file_extension": ".py",
   "mimetype": "text/x-python",
   "name": "python",
   "nbconvert_exporter": "python",
   "pygments_lexer": "ipython3",
   "version": "3.12.3"
  }
 },
 "nbformat": 4,
 "nbformat_minor": 5
}

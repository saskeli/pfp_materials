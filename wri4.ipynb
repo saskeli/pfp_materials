{
 "cells": [
  {
   "cell_type": "markdown",
   "id": "86481729",
   "metadata": {},
   "source": [
    "# Written assignments\n",
    "\n",
    "The written tasks are related (at least tangentially) to tasks of the programming assignment. And may even require you to do some more programming. To get points for each task, you need to submit by the deadline.\n",
    "\n",
    "Upload your answers as a single pdf to Moodle. The length of your submission should not exceed 6 pages in total. Each task is worth 2 points for a total of 10 points. \n",
    "\n",
    "## Task 1\n",
    "How is the performance (specifically read and write speed) of VByte code implementations (standard and generalised) architecture dependent? At least the talk by Timur Doumler linked in the course material contains relevant information.\n",
    "\n",
    "## Task 2\n",
    "What is the asymptotic performance of the random access queries A40, A41 and A42?\n",
    "\n",
    "## Task 3\n",
    "Does the practical performance agree with the asymptotic performance? Why? Why not?\n",
    "\n",
    "## Task 4\n",
    "What is the problem with location queries compared to sum queries? I.e. why is it hard to guarantee good performance for location queries?\n",
    "\n",
    "## Task 5\n",
    "Can you think of a better way than binary search to do location queries? How does it perform in practice for supporting random access to VByte codes?"
   ]
  }
 ],
 "metadata": {
  "kernelspec": {
   "display_name": "Python 3 (ipykernel)",
   "language": "python",
   "name": "python3"
  },
  "language_info": {
   "codemirror_mode": {
    "name": "ipython",
    "version": 3
   },
   "file_extension": ".py",
   "mimetype": "text/x-python",
   "name": "python",
   "nbconvert_exporter": "python",
   "pygments_lexer": "ipython3",
   "version": "3.10.9"
  }
 },
 "nbformat": 4,
 "nbformat_minor": 5
}

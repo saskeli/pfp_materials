{
 "cells": [
  {
   "cell_type": "markdown",
   "id": "3ad2e8b5",
   "metadata": {},
   "source": [
    "# Programming 1\n",
    "\n",
    "## Problem statement\n",
    "\n",
    "In this exercise set we continue working with data structures for non-negative integer set supporting insertion and membership queries.\n",
    "\n",
    "As previously:\n",
    "\n",
    "* We want a program that can store non-negative integers and tells us if a given integer is stored or not. \n",
    "* When the program is started we can insert non-negative integers or switch to query mode by entering a negative integer. \n",
    "* In query mode, entering a non-negative integer, tells us if the integer is stored or not and entering a negative integer switches back to insert mode.\n",
    "* The program is terminated with a keyboard interrupt (CTRL+C) or when EOF is reached for file input.\n",
    "* We should be able to tell the program to use specific set data structures, give an optional upper limit for integer size, tell the program something about how the data is entered.\n",
    "\n",
    "We are looking for fast implementations that do not consume significantly more space than `std::set` or `std::unordered_set`."
   ]
  },
  {
   "cell_type": "markdown",
   "id": "0ce6bab4",
   "metadata": {},
   "source": [
    "## Task 1: \n",
    "Use the template project from last week.\n",
    "\n",
    "If you ran the program with a good combination of data structure types and test data variations, you will have noticed that “-t 2”, the one that uses `std::unordered_set` is fastest in all cases. The task here is to beat it for cases where the insertions and queries are not interleaved.\n",
    "\n",
    "The data structure does not have to be ready for queries before the first query is encountered, and this “query readiness” does not have to be maintained when new insertions are encountered.\n",
    "\n",
    "The phases of the program could be as follows:\n",
    "* Start in insert mode. Store new insertions as fast as possible with no regard for query performance.\n",
    "* Once the first query is encountered, convert the structure to one that supports very fast queries, but not fast insertions.\n",
    "* Serve queries using this converted structure very quickly.\n",
    "* Since we know the input is not interleaved, we don’t even need to consider changing back to “fast insert mode” (though this is trivial for the solution we have in mind)\n",
    "\n",
    "Your data structure should not require more space than `std::unordered_set`.\n",
    "\n",
    "Hint (spoiler): <span style=\"background-color:#000000\">std::binary_search is fast and vectors are very efficient.</span>\n",
    "\n",
    "Implement this data structure in the project (make it “-t 4”), and make this the default for when the “-s” switch is given when starting the program and “-t” is not specified (this should already be the case if you set this as “-t 4” in the program).\n",
    "\n",
    "Once your implementation beats `std::unordered_set` on non-interleaved data, you are ready to submit to CSES.\n",
    "Zip up the folder and submit task A10."
   ]
  },
  {
   "cell_type": "markdown",
   "id": "c50a6ff8",
   "metadata": {},
   "source": [
    "## Task 2\n",
    "Now, if we know how large the integers are allowed to be, and that a significant fraction of these integers will be present in the final set, we can, from the start store whether or not each of the allowed integers is in the set and just modify these values on insertion and look the values up on queries.\n",
    "\n",
    "Hint (spoiler): <span style=\"background-color:#000000\">Just an array of booleans, or the BitArray from next week.</span>\n",
    "\n",
    "Implement this data structure in the project (“-t 5”), and make this the default for when the “-l” switch is given with a reasonable argument, i.e. don’t lose too much in space to std::unordered_set. (this is also set up by default for “-t 5”.)\n",
    "\n",
    "Once your implementation beats `std::unordered_set` for reasonable “-l” values, zip up the folder, and submit task A11."
   ]
  },
  {
   "cell_type": "markdown",
   "id": "35029793",
   "metadata": {},
   "source": [
    "## Task 3. Only B series submissions\n",
    "\n",
    "Make a solution that beats std::unordered_set in the general case for non-negative 32-bit signed integers. You may use the previous solutions when applicable but should not use significantly more space than `std::unordered_set`.\n",
    "\n",
    "This is definitely possible since the “model solution” is faster. However this is considerably more involved than the previous tasks. Hints may be available during the course.\n",
    "\n",
    "The points for this task are “extra points”, not required for the highest grade and strictly not required even for “full” course points.\n",
    "\n",
    "Once you beat `std::unordered_set`, set the fast version as `-t 6`, zip up your solutions, and submit task B10.\n"
   ]
  }
 ],
 "metadata": {
  "kernelspec": {
   "display_name": "Python 3 (ipykernel)",
   "language": "python",
   "name": "python3"
  },
  "language_info": {
   "codemirror_mode": {
    "name": "ipython",
    "version": 3
   },
   "file_extension": ".py",
   "mimetype": "text/x-python",
   "name": "python",
   "nbconvert_exporter": "python",
   "pygments_lexer": "ipython3",
   "version": "3.11.7"
  }
 },
 "nbformat": 4,
 "nbformat_minor": 5
}

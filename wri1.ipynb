{
 "cells": [
  {
   "cell_type": "markdown",
   "id": "d723525f",
   "metadata": {},
   "source": [
    "# WRITTEN ASSIGNMENTS\n",
    "\n",
    "The written tasks are related (at least tangentially) to tasks of the programming assignment. To get points for each task, you need to submit by the deadline. An additional 4 points are available if you are active at the exercise session.\n",
    "\n",
    "Upload your answers as a single pdf to moodle. The length of your submission should not exceed 4 pages in total.\n",
    "\n",
    "The tasks are worth 2 points each. Please respond with full paragraphs and explain your answerts. Incomplete answers may be given partial points."
   ]
  },
  {
   "cell_type": "markdown",
   "id": "d252d352-c464-4831-b58d-fdf504b3466c",
   "metadata": {},
   "source": [
    "## Task 1\n",
    "Think about the performance of the different data structures (the 3 provided ones and the 2 you possibly implemented).\n",
    "\n",
    "For both of the supported operations (count and insert). How fast are the operations? Are there asymptotical differences in expected performance? What about practical performance in comparison to asymptotical? Why?\n",
    "\n",
    "## Task 2\n",
    "Thoughts about programming task 3? The task says that it is possible to beat `std::unordered_set` for the problem we specified. Why do you think this is? Any ideas on how to do it?\n",
    "\n",
    "## Task 3\n",
    "\n",
    "What is \"fun safe math\"? How is this relevant to how code is compiled for the code of sets 0 and 1?\n",
    "\n",
    "And while we are at it. What do all the compiler flags do (both those defined in the `CPPFLAGS` variable and for specific make rules)? And why did I decide to use them?\n",
    "\n",
    "## Task 4\n",
    "What does it mean that the gnu compiler we use (g++) is an optimizing compiler.\n",
    "\n",
    "What are other compilers? Why do we use GCC and not something else?\n",
    "\n",
    "## Task 5\n",
    "\n",
    "While browsing the code provided for the first exercise set, did you find something interesting that has not been covered yet on the course?\n",
    "\n",
    "What did you find and what can you say about it?\n",
    "\n",
    "Note: I suppose \"no\" is a valid (and possibly correct) answer to this task, but that's not really all that fun is it?"
   ]
  }
 ],
 "metadata": {
  "kernelspec": {
   "display_name": "Python 3 (ipykernel)",
   "language": "python",
   "name": "python3"
  },
  "language_info": {
   "codemirror_mode": {
    "name": "ipython",
    "version": 3
   },
   "file_extension": ".py",
   "mimetype": "text/x-python",
   "name": "python",
   "nbconvert_exporter": "python",
   "pygments_lexer": "ipython3",
   "version": "3.11.7"
  }
 },
 "nbformat": 4,
 "nbformat_minor": 5
}

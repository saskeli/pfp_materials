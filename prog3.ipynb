{
 "cells": [
  {
   "cell_type": "markdown",
   "id": "aa3c49a4",
   "metadata": {},
   "source": [
    "# Programming tasks\n",
    "\n",
    "## Data\n",
    "\n",
    "For this (and the next) assignment you are provided with a set of files each containing unsigned 64-bit integers (note: not in text format). They can be found on Moodle.\n",
    "\n",
    "The `Fx`, `Fxs` files both contain unsigned 64-bit integers. In both, the first integer is the number $n$, indicating the number of elements present in the files. \n",
    "\n",
    "`Fx` files contain (beyond the leading $n$), $n$ unsorted “random” integers, followed by $n$ unsorted “random” integers in the $[0, n)$ range. The intent is that the first $n$ integers are added (`ds.append()`) to a data structure in order, and then if the data structure supports random access, the next $n$ integers are targets for index queries (`ds[]` or `ds.at()`). The $n$ index queries can be ignored for this set.\n",
    "\n",
    "`Fxs` files only contain (beyond the leading $n$), $n$ sorted “random” integers. As implementations based on encoding differences between subsequent numbers can’t support random access, the query part is omitted.\n",
    "\n",
    "These files are similar to what CSES uses. Note that, “random” here means that you may treat the input as random, not that it actually is."
   ]
  },
  {
   "cell_type": "markdown",
   "id": "cb3b0a90",
   "metadata": {},
   "source": [
    "Think of each file as containing a set of integers. The integers in the files are 64-bits (i.e. 8 bytes) in length, unsigned, and are not sorted in any particular way.\n",
    "\n",
    "The $23$ integers in `F1` are: \n",
    "\n",
    "```\n",
    "10, 7, 0, \n",
    "1, 10, 100, 1 000, 10 000, 100 000, 1 000 000, 10 000 000, 100 000 000, 1 000 000 000,\n",
    "1, 2, 3, 4, 5, 6, 7, 8, 9\n",
    "```\n",
    "\n",
    "The $13$ integers in `F1s` are:\n",
    "```\n",
    "10, 7, 1, \n",
    "1, 10, 100, 1 000, 10 000, 100 000, 1 000 000, 10 000 000, 100 000 000, 1 000 000 000\n",
    "```"
   ]
  },
  {
   "cell_type": "markdown",
   "id": "89d460ef",
   "metadata": {},
   "source": [
    "## Assignment Overview\n",
    "\n",
    "In this assignment you are expected to implement various versions of VByte encoding, and to benchmark these using the data provided (and data you create).\n",
    "\n",
    "**VByte** encoding is a famous compression scheme for integers that is used for efficiency in many software systems, including search engines. A brief description of VByte encoding is given in the \"Description of VByte encoding\" document.\n",
    "\n",
    "The intent is to create the tooling necessary to benchmark VByte coding. The executable should initiall take as a parameter only a file, and if no file is given, should read from the standard input. In addition arguments `-s` and `-k <num>` may be given. The program should work as follows:\n",
    "* Read $n$ from file or standard input\n",
    "* Read $n$ 64-bit integers from file or standard input and store the integers using VByte coding.\n",
    "    * If `-s` was given, input is sorted and differences between integers should be stored instead of the integers themselves.\n",
    "    * If `-k <num>` was given, generalized VByte code with $k$ bit blocks should be used.\n",
    "* Output the number of blocks used for encoding the input.\n",
    "* If `-s` was given or random access is not supported:  \n",
    "  Output the contents of the data structure. I.e. repeat back the input.\n",
    "* Else:  \n",
    "  Read an additional $n$ integers and output `ds.get(i)` for each value $i$ read.\n",
    "\n",
    "Note: For B series task, you will not be able to simply read the entire input into a vector or array first before encoding, as this will take too much space.\n",
    "\n",
    "For example with input: $[2, 7, 500]$<br/>\n",
    "The program should output: $[3, 7, 500]$<br/>\n",
    "I.e. 3 VByte blocks were used and the numbers were $7$ and $500$.\n",
    "\n",
    "And in set 4:<br/>\n",
    "For input: $[2, 7, 500, 1, 0]$<br/>\n",
    "The program should output: $[3, 500, 7]$<br/>\n",
    "I.e. again 3 blocks used and `VB.get(1)` $= 500$, `VB.get(0)` $= 7$. "
   ]
  },
  {
   "cell_type": "markdown",
   "id": "292db775",
   "metadata": {},
   "source": [
    "## Tasks 1 and 2: VByte Encoding/Decoding (4 + 2 out of 10 marks)\n",
    "\n",
    "**Do the following:**\n",
    "\n",
    "Implement a VByte encoding based data structure (`VByte.hpp` for example). Implement code to use the data structure as described above. Random access is not required yet for this task. The `-k` flag should also be ignored here and you can simply assume that k = 7, and use full bytes with an included stop bit. The index queries at the end of `Fx` files can also be ignored for now.\n",
    "\n",
    "Measure the total time taken to process files, recording both wallclock and user+system time. What do these numbers mean and why are they different? Measure also the time taken for reading and encoding separately from the time used for outputting. Test different approaches to reading the input data. What do you find? While you were developing your encoding and decoding routines, were you able to improve (or worsen) runtimes? If so, what changes made a difference? How can you divide (and compute modulus) by powers of 2 quickly? How can this be exploited in VByte encoding? Does this matter for this task?\n",
    "\n",
    "Compute the sizes of your encoded data. How well does compression perform? How do the compressed sizes of the unsorted and sorted files compare to the original files?\n",
    "\n",
    "Once you have done all of this, submit to CSES tasks 1 and 2. Task 1 tests for unsorted cases and Task 2 for sorted cases."
   ]
  },
  {
   "cell_type": "markdown",
   "id": "377ac45f",
   "metadata": {},
   "source": [
    "## Task 3: Generalized VB codes (4 out of 10 marks)\n",
    "\n",
    "The VByte codes that we looked at in Assignment 1 and 2 used 7 bits for data (and 1 bit for the stop bit) in each part of the code (each part being 8 bits or 1 byte). Making use of your solution for Packed Integer Arrays from Assignment 2, implement a generalised version of VByte codes where the number of data bits can be specified as a parameter, $k$. That is, the argument `-k <num>`.\n",
    "\n",
    "For example, if we set $k=4$, the number $x = 500$, which is `111110100` in binary, would be encoded as:\n",
    "\n",
    "```\n",
    "00100\n",
    "01111\n",
    "10001\n",
    "```\n",
    "\n",
    "When encoded this way, $x$ has 3 parts, each of 5 bits each (1 stop bit and 4 data bits per part), for a total of 15 bits. Compare this to the encoding obtained when k=7 (as was the case in Task 1):\n",
    "\n",
    "```\n",
    "01110100\n",
    "10000011\n",
    "```\n",
    "\n",
    "Where $x$ this time consists of 2 parts, each of 8 bits each (1 stop bit and 7 data bits per part), for a total of 16 bits.\n",
    "\n",
    "Test the speed and space performance of this implementation. What do you find? Can you generate (non-trivial) test cases that work very well / badly for different combinations of $k$ values and `-s` flag? Think about strengths and weaknesses of the generalised version.\n",
    "\n",
    "Once you are satisfied with your implementation, submit it to CSES.\n"
   ]
  }
 ],
 "metadata": {
  "kernelspec": {
   "display_name": "Python 3 (ipykernel)",
   "language": "python",
   "name": "python3"
  },
  "language_info": {
   "codemirror_mode": {
    "name": "ipython",
    "version": 3
   },
   "file_extension": ".py",
   "mimetype": "text/x-python",
   "name": "python",
   "nbconvert_exporter": "python",
   "pygments_lexer": "ipython3",
   "version": "3.10.9"
  }
 },
 "nbformat": 4,
 "nbformat_minor": 5
}

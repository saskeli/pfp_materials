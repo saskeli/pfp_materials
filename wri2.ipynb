{
 "cells": [
  {
   "cell_type": "markdown",
   "id": "8d6ecfe1",
   "metadata": {},
   "source": [
    "# WRITTEN ASSIGNMENTS\n",
    "\n",
    "The written tasks are related (at least tangentially) to tasks of the programming assignment. And may even require you to do some more programming. To get points for each task, you need to submit by the deadline and be prepared to discuss your answers at the exercise session following the deadline.\n",
    "\n",
    "Upload your answers as a single pdf to Moodle. The length of your submission should definitely not exceed 10 pages in total. Each task is worth 2 points for a total of 10 points. \n",
    "\n",
    "## Task 1\n",
    "\n",
    "What did you do and why for the programming tasks 1-3? What did you find / What results did you get? The answer should be brief and to the point, a total of ~2 pages at most.\n",
    "\n",
    "## Task 2\n",
    "\n",
    "What methods did you use for timing total program execution and parts of the execution? Can you find alternatives? What are some good and bad sides of different approaches to performance timing?\n",
    "\n",
    "## Task 3\n",
    "\n",
    "What effect does sorting have on performance? Why?\n",
    "\n",
    "## Task 4\n",
    "\n",
    "Look around on the web and find a way to measure the peak memory usage of each of your solutions, and the sizes of the data structures used. Explain the method you used and where you found it online (if you found it there). Record the peak memory usage of your programs and data structures. Think about variation between peak memory and data strukture size as well as between runs with different data, if any.\n",
    "\n",
    "## Task 5\n",
    "\n",
    "Any ideas on efficient (better than $\\mathcal{O}(\\log n))$ implementations for the location queries of programming task 3? Why is location a more complicated problem than sum?"
   ]
  }
 ],
 "metadata": {
  "kernelspec": {
   "display_name": "Python 3",
   "language": "python",
   "name": "python3"
  },
  "language_info": {
   "codemirror_mode": {
    "name": "ipython",
    "version": 3
   },
   "file_extension": ".py",
   "mimetype": "text/x-python",
   "name": "python",
   "nbconvert_exporter": "python",
   "pygments_lexer": "ipython3",
   "version": "3.6.9"
  }
 },
 "nbformat": 4,
 "nbformat_minor": 5
}

{
 "cells": [
  {
   "cell_type": "markdown",
   "id": "1f7bbb8e",
   "metadata": {},
   "source": [
    "# WRITTEN ASSIGNMENTS\n",
    "\n",
    "The written tasks are related (at least tangentially) to the task of the programming assignment.\n",
    "\n",
    "Upload your answers as a single pdf to moodle. Please respond with full paragraphs and explain your answers. The length of your submission should definitely not exceed 2 pages in total.\n",
    "\n",
    "The point is to show the grader that you did actually spend some time thinking about and working on the tasks.\n",
    "\n",
    "The tasks are worth 1 point each, incomplete answers may yield partial points.\n",
    "\n",
    "## Task 1\n",
    "\n",
    "What did you do and why for the programming task A00?\n",
    "\n",
    "What did you find / What results did you get when running the code? Why?\n",
    "\n",
    "The answer should be brief and to the point, a total of ~1 page at most.\n",
    "\n",
    "## Task 2\n",
    "\n",
    "What and why are the ampersands in the definition of the `run_ops` method of `query.cpp`. I.e.\n",
    "\n",
    "```c++\n",
    "void run_ops(query_structure& qs, std::istream& in) {\n",
    "```\n",
    "\n",
    "## Task 3\n",
    "\n",
    "Templates behave kind of like generics in Java or C# or similarly to how object polymorphism in python. Why are templates better? How are they worse?\n",
    "\n",
    "## Task 4\n",
    "\n",
    "Why does the probability of branching matter when optimising for high performance? I.e. What's the point of `likely` / `unlikely` annotations or flipping if-statements so that the positive branch is first?"
   ]
  }
 ],
 "metadata": {
  "kernelspec": {
   "display_name": "Python 3 (ipykernel)",
   "language": "python",
   "name": "python3"
  },
  "language_info": {
   "codemirror_mode": {
    "name": "ipython",
    "version": 3
   },
   "file_extension": ".py",
   "mimetype": "text/x-python",
   "name": "python",
   "nbconvert_exporter": "python",
   "pygments_lexer": "ipython3",
   "version": "3.13.1"
  }
 },
 "nbformat": 4,
 "nbformat_minor": 5
}

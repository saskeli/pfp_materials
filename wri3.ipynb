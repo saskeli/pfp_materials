{
 "cells": [
  {
   "cell_type": "markdown",
   "id": "04a91b0c",
   "metadata": {},
   "source": [
    "# WRITTEN ASSIGNMENTS\n",
    "\n",
    "The written tasks are related (at least tangentially) to tasks of the programming assignment. And may even require you to do some more programming. To get points for each task, you need to submit by the deadline.\n",
    "\n",
    "Upload your answers as a single pdf to Moodle. The length of your submission should not exceed 6 pages in total. Each task is worth 2 points for a total of 10 points. \n",
    "\n",
    "### Task 1-2\n",
    "What did you do and why for the programming tasks 1-6? What did you find / What results did you get? The answers should be brief and to the point, absolutely no more than 2 pages.\n",
    "\n",
    "\n",
    "### Task 3\n",
    "Strengths and weaknesses of sorted representations compared to unsorted? Can you think of use cases where each would be preferable? (related to programming tasks 1 and 2).\n",
    "\n",
    "\n",
    "### Task 4\n",
    "Strengths and weaknesses of a generalised implementation with selectable block size compared to “standard” VByte code with 7-bit blocks and 1 stop bit.\n",
    "\n",
    "\n",
    "### Task 5\n",
    "Can you think of (non-trivial) situations, where an alternate block size would be significantly better? “All numbers are less than 32” would be considered trivial.\n"
   ]
  }
 ],
 "metadata": {
  "kernelspec": {
   "display_name": "Python 3 (ipykernel)",
   "language": "python",
   "name": "python3"
  },
  "language_info": {
   "codemirror_mode": {
    "name": "ipython",
    "version": 3
   },
   "file_extension": ".py",
   "mimetype": "text/x-python",
   "name": "python",
   "nbconvert_exporter": "python",
   "pygments_lexer": "ipython3",
   "version": "3.10.9"
  }
 },
 "nbformat": 4,
 "nbformat_minor": 5
}

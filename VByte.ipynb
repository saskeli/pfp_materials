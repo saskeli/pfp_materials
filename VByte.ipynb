{
 "cells": [
  {
   "cell_type": "markdown",
   "id": "282ae81c",
   "metadata": {},
   "source": [
    "# Brief description of VByte encoing\n",
    "\n",
    "**VByte** encoding is perhaps best understood through examples. VByte represents an integer $x$ as a sequence of one or more bytes. If $x < 128$ then the VByte encoding for $x$ is simply a single byte containing the value $128+x$. For example, the VByte code for $x = 23$ (which is $< 128$) is $151$, or `10010111` in binary. \n",
    "\n",
    "Bigger numbers $x \\geq 128$ are encoded using more than one byte. For example, for $x = 500$, which is `111110100` in binary, VByte would output the following bytes (shown in binary):\n",
    "\n",
    "<pre>\n",
    "<span style=\"color:red\"><b>0</b></span><u>1110100</u>\n",
    "<span style=\"color:red\"><b>1</b></span>00000<u>11</u>\n",
    "</pre>\n",
    "\n"
   ]
  },
  {
   "cell_type": "markdown",
   "id": "db113865",
   "metadata": {},
   "source": [
    "Consider the two bytes above (in decimal they are $116$ and $131$, respectively). Looking at the underlined bits of each byte, we see precisely the bits that make up the original number $x = 500 = $`111110100`. The lower order $7$ bits of $x$ are underlined in the first byte, and the remaining bits are underlined in the second byte.\n",
    "\n",
    "Now look at the leftmost bit of each byte (in <span style=\"color:red\">**bold**</span>), which is called the stop bit. In the first byte we have a $0$ and in the second byte a $1$. The $0$ in the first byte indicates that the encoded number $x = 500$ is greater than $127$ and that some more of its bits are contained in the next byte. So we read the next byte. It’s stop bit is $1$. This indicates that after this byte there are no more bits needed to reconstruct $x$.\n",
    "\n",
    "So we have found the bits for $x$, but how do we reconstruct $x$ itself? The following calculation does the job: $x = B_0 + (B_1 -128)*128$, where $B0$ is the first byte above, and $B1$ is the second. Spend some time verifying this for yourself.\n",
    "\n",
    "The scheme works for any size number. For example, the number $20,000,000$ (20 million), which is `1001100010010110100000000` in binary, would have the following VByte encoding:\n",
    "\n",
    "```\n",
    "00000000\n",
    "01011010\n",
    "01000100\n",
    "10001001\n",
    "```"
   ]
  },
  {
   "cell_type": "markdown",
   "id": "7042bad1",
   "metadata": {},
   "source": [
    "So, after inspecting the $n$<sup>th</sup> byte of a VByte encoded number $x$ we have $7n$ bits of $x$ and know whether or not we need to inspect the next byte to decode some more of $x$ (stop bit = 0) or not (stop bit = 1). Spend some time writing down the equation to reconstruct $x$ from the four bytes above that encode $20,000,000$, as we did for the encoding of $500$.\n",
    "\n",
    "Your first action for this task should be to write some pseudocode for VByte encoding and decoding. Once you think about it, you’ll see that we don’t need to look at bits directly at all: integer division and modulus (for encoding) and multiplication and addition (for decoding) are all that is required. To get you started, here is some pseudocode for encoding.\n",
    "\n",
    "```\n",
    "VByteEncodeInteger(i): (INPUT: one integer, OUTPUT: one or more bytes)\n",
    "1 while true\n",
    "2 \tb = i mod 128\n",
    "3 \tif i < 128 then\n",
    "4 \t\tOutputByte(b+128) and BREAK\n",
    "5\tOutputByte(b)\n",
    "5 \ti ← i div 128\n",
    "```\n",
    "\n",
    "If you get really stuck in understanding VByte, contact one of the teachers - but do invest some time thinking about it before deciding if you really need to.\n"
   ]
  }
 ],
 "metadata": {
  "kernelspec": {
   "display_name": "Python 3 (ipykernel)",
   "language": "python",
   "name": "python3"
  },
  "language_info": {
   "codemirror_mode": {
    "name": "ipython",
    "version": 3
   },
   "file_extension": ".py",
   "mimetype": "text/x-python",
   "name": "python",
   "nbconvert_exporter": "python",
   "pygments_lexer": "ipython3",
   "version": "3.12.3"
  }
 },
 "nbformat": 4,
 "nbformat_minor": 5
}

{
 "cells": [
  {
   "cell_type": "markdown",
   "id": "5f780e91",
   "metadata": {},
   "source": [
    "# Programming 0\n",
    "\n",
    "## Problem statement\n",
    "\n",
    "In this and the next exercise sets we are working with data structures for non-negative integer sets supporting insertion and membership queries.\n",
    "\n",
    "We want a program that can store non-negative integers and tells us if a given integer is stored or not. \n",
    "\n",
    "* When the program is started we can insert non-negative integers or switch to query mode by entering a negative integer.\n",
    "* In query mode, entering a non-negative integer, tells us if the integer is stored or not and entering a negative integer switches back to insert mode.\n",
    "* The program is terminated with a keyboard interrupt (CTRL+C) or when EOF is reached for file input.\n",
    "* We should be able to tell the program to use specific set data structures, give an optional upper limit for integer size and tell the program something about how the data is entered.\n",
    "\n",
    "We are looking for fast implementations that do not consume significantly more space than `std::set` or `std::unordered_set`."
   ]
  },
  {
   "cell_type": "markdown",
   "id": "52517b6a",
   "metadata": {},
   "source": [
    "## Data\n",
    "\n",
    "On moodle you will find `test_data.zip` with some .txt files with input sequences for the program. \n",
    "\n",
    "* data.txt contains a sequence of random insertions followed by a sequence of queries.\n",
    "* sorted.txt contains a sorted sequence of insertions followed by a sequence of queries.\n",
    "* Interleaved.txt contains a sequence of random insertions and queries.\n",
    "* Limited-e6.txt contains a sequence of random insertion in the range $[0..10^6]$ followed by a sequence of queries.\n",
    "\n",
    "You are encouraged to use the `nums.py` script in the project template to generate additional test data with different parameters. See `./nums.py -h` for usage information (or just look at the file)."
   ]
  },
  {
   "cell_type": "markdown",
   "id": "ae1c2399",
   "metadata": {},
   "source": [
    "## Task 1: \n",
    "\n",
    "Download the template project from Moodle. Read through (or skim at least) the contents of the `.cpp`, `.hpp` files and the `Makefile`. All of the programming exercises in this course should work similarly to this one.\n",
    "\n",
    "Of the following do at least the ones in bold.\n",
    "\n",
    "* **Verify that the project compiles by invoking “make”**. This should generate an executable called “query”.\n",
    "* Wonder how make knew that that was what you wanted.\n",
    "* And what were all those warnings? Should you just ignore them?\n",
    "* Run `./query -h` to get the usage information.\n",
    "* Try manually testing the executable by invoking `./query -t 3 -d` and entering queries.\n",
    "* **Time the execution of “query” using the provided test files and different values for the “-t” switch.** For example  \n",
    "    `/usr/bin/time ./query -t 1 data.txt >> /dev/null`  \n",
    "    `/usr/bin/time ./query -t 3 data.txt >> /dev/null`\n",
    "* Wonder why /usr/bin/time instead of just time. And what’s with the /dev/null?\n",
    "* Wonder why -t 3 is faster than -t 1 for unsorted data but slower for sorted data.\n",
    "* **Realise that this template won’t work for CSES since the executable must be called “main”**\n",
    "* **Change the Makefile so that the executable is called main, and both “make” and “make main” work correctly.**\n",
    "* **Zip up the code and upload to CSES for task A00 to get your first points.**  \n",
    "  The course on cses.fi is called \"Programming for performance 2025\".   \n",
    "  In case you do not have a CSES account you will need to create one before submitting.  \n",
    "  If you can, please add your student number to you profile in CSES so points can easily be attributed to you.\n",
    "\n",
    "On linux, in the source code folder, do for example\n",
    "\n",
    "```bash\n",
    "zip -r ../s0.zip ./*\n",
    "```\n",
    "\n",
    "If you have subdirectories you will need to add the `-r` flag to zip.\n",
    "\n",
    "**Note** that the size limits for submission are fairly small. You should remove all data files before zipping.\n",
    "\n",
    "**Note (the second)**: Only A series points are available for programming set 0."
   ]
  }
 ],
 "metadata": {
  "kernelspec": {
   "display_name": "Python 3 (ipykernel)",
   "language": "python",
   "name": "python3"
  },
  "language_info": {
   "codemirror_mode": {
    "name": "ipython",
    "version": 3
   },
   "file_extension": ".py",
   "mimetype": "text/x-python",
   "name": "python",
   "nbconvert_exporter": "python",
   "pygments_lexer": "ipython3",
   "version": "3.13.1"
  }
 },
 "nbformat": 4,
 "nbformat_minor": 5
}
